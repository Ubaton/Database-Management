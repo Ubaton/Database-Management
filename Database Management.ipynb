{
 "cells": [
  {
   "cell_type": "code",
   "execution_count": 1,
   "id": "90684a45",
   "metadata": {},
   "outputs": [],
   "source": [
    "# pip install pandas\n"
   ]
  },
  {
   "cell_type": "code",
   "execution_count": 2,
   "id": "0822e8b3",
   "metadata": {},
   "outputs": [],
   "source": [
    "# pip install sql"
   ]
  },
  {
   "cell_type": "code",
   "execution_count": 3,
   "id": "36204f4b",
   "metadata": {},
   "outputs": [],
   "source": [
    "# pip install yfinance"
   ]
  },
  {
   "cell_type": "code",
   "execution_count": 4,
   "id": "9c194f71",
   "metadata": {},
   "outputs": [],
   "source": [
    "import pandas as pd\n",
    "from sqlalchemy import create_engine\n",
    "import yfinance as yf"
   ]
  },
  {
   "cell_type": "code",
   "execution_count": 5,
   "id": "f53483cf",
   "metadata": {},
   "outputs": [],
   "source": [
    "engine = create_engine(\"sqlite:///TEST_DB.db\")"
   ]
  },
  {
   "cell_type": "code",
   "execution_count": 6,
   "id": "37137896",
   "metadata": {},
   "outputs": [
    {
     "name": "stdout",
     "output_type": "stream",
     "text": [
      "[*********************100%***********************]  1 of 1 completed\n"
     ]
    }
   ],
   "source": [
    "df = yf.download(\"NDX\", start=\"2022-05-01\", end = \"2022-11-14\")"
   ]
  },
  {
   "cell_type": "code",
   "execution_count": 7,
   "id": "4a67f502",
   "metadata": {},
   "outputs": [],
   "source": [
    "# df.to_sql(\"NDX\",engine)"
   ]
  },
  {
   "cell_type": "code",
   "execution_count": 8,
   "id": "18e47068",
   "metadata": {},
   "outputs": [],
   "source": [
    "max_date = pd.read_sql(\"SELECT MAX(Date) FROM NDX\",engine).values[0][0]"
   ]
  },
  {
   "cell_type": "code",
   "execution_count": 9,
   "id": "4a5aca99",
   "metadata": {},
   "outputs": [
    {
     "data": {
      "text/plain": [
       "'2022-11-14 00:00:00.000000'"
      ]
     },
     "execution_count": 9,
     "metadata": {},
     "output_type": "execute_result"
    }
   ],
   "source": [
    "max_date"
   ]
  },
  {
   "cell_type": "code",
   "execution_count": 12,
   "id": "93bbd358",
   "metadata": {},
   "outputs": [
    {
     "data": {
      "text/plain": [
       "0"
      ]
     },
     "execution_count": 12,
     "metadata": {},
     "output_type": "execute_result"
    }
   ],
   "source": [
    "df[df.index > max_date].to_sql(\"NDX\",engine, if_exists = \"append\")"
   ]
  },
  {
   "cell_type": "code",
   "execution_count": 13,
   "id": "ac7c3dc8",
   "metadata": {},
   "outputs": [
    {
     "data": {
      "text/html": [
       "<div>\n",
       "<style scoped>\n",
       "    .dataframe tbody tr th:only-of-type {\n",
       "        vertical-align: middle;\n",
       "    }\n",
       "\n",
       "    .dataframe tbody tr th {\n",
       "        vertical-align: top;\n",
       "    }\n",
       "\n",
       "    .dataframe thead th {\n",
       "        text-align: right;\n",
       "    }\n",
       "</style>\n",
       "<table border=\"1\" class=\"dataframe\">\n",
       "  <thead>\n",
       "    <tr style=\"text-align: right;\">\n",
       "      <th></th>\n",
       "      <th>Date</th>\n",
       "      <th>Open</th>\n",
       "      <th>High</th>\n",
       "      <th>Low</th>\n",
       "      <th>Close</th>\n",
       "      <th>Adj Close</th>\n",
       "      <th>Volume</th>\n",
       "    </tr>\n",
       "  </thead>\n",
       "  <tbody>\n",
       "    <tr>\n",
       "      <th>0</th>\n",
       "      <td>2022-05-02</td>\n",
       "      <td>12864.830078</td>\n",
       "      <td>13083.570312</td>\n",
       "      <td>12716.629883</td>\n",
       "      <td>13075.849609</td>\n",
       "      <td>13075.849609</td>\n",
       "      <td>4918240000</td>\n",
       "    </tr>\n",
       "    <tr>\n",
       "      <th>1</th>\n",
       "      <td>2022-05-03</td>\n",
       "      <td>13045.349609</td>\n",
       "      <td>13178.740234</td>\n",
       "      <td>12982.700195</td>\n",
       "      <td>13089.900391</td>\n",
       "      <td>13089.900391</td>\n",
       "      <td>4547280000</td>\n",
       "    </tr>\n",
       "    <tr>\n",
       "      <th>2</th>\n",
       "      <td>2022-05-04</td>\n",
       "      <td>13110.299805</td>\n",
       "      <td>13556.669922</td>\n",
       "      <td>12887.530273</td>\n",
       "      <td>13535.709961</td>\n",
       "      <td>13535.709961</td>\n",
       "      <td>5498050000</td>\n",
       "    </tr>\n",
       "    <tr>\n",
       "      <th>3</th>\n",
       "      <td>2022-05-05</td>\n",
       "      <td>13344.790039</td>\n",
       "      <td>13344.790039</td>\n",
       "      <td>12710.589844</td>\n",
       "      <td>12850.549805</td>\n",
       "      <td>12850.549805</td>\n",
       "      <td>5308920000</td>\n",
       "    </tr>\n",
       "    <tr>\n",
       "      <th>4</th>\n",
       "      <td>2022-05-06</td>\n",
       "      <td>12776.860352</td>\n",
       "      <td>12926.580078</td>\n",
       "      <td>12522.769531</td>\n",
       "      <td>12693.530273</td>\n",
       "      <td>12693.530273</td>\n",
       "      <td>5324480000</td>\n",
       "    </tr>\n",
       "    <tr>\n",
       "      <th>...</th>\n",
       "      <td>...</td>\n",
       "      <td>...</td>\n",
       "      <td>...</td>\n",
       "      <td>...</td>\n",
       "      <td>...</td>\n",
       "      <td>...</td>\n",
       "      <td>...</td>\n",
       "    </tr>\n",
       "    <tr>\n",
       "      <th>132</th>\n",
       "      <td>2022-11-08</td>\n",
       "      <td>11039.580078</td>\n",
       "      <td>11191.900391</td>\n",
       "      <td>10897.530273</td>\n",
       "      <td>11059.500000</td>\n",
       "      <td>11059.500000</td>\n",
       "      <td>5134500000</td>\n",
       "    </tr>\n",
       "    <tr>\n",
       "      <th>133</th>\n",
       "      <td>2022-11-09</td>\n",
       "      <td>10971.429688</td>\n",
       "      <td>11012.660156</td>\n",
       "      <td>10790.349609</td>\n",
       "      <td>10797.549805</td>\n",
       "      <td>10797.549805</td>\n",
       "      <td>4977460000</td>\n",
       "    </tr>\n",
       "    <tr>\n",
       "      <th>134</th>\n",
       "      <td>2022-11-10</td>\n",
       "      <td>11350.419922</td>\n",
       "      <td>11612.200195</td>\n",
       "      <td>11235.740234</td>\n",
       "      <td>11605.959961</td>\n",
       "      <td>11605.959961</td>\n",
       "      <td>6433000000</td>\n",
       "    </tr>\n",
       "    <tr>\n",
       "      <th>135</th>\n",
       "      <td>2022-11-11</td>\n",
       "      <td>11604.360352</td>\n",
       "      <td>11840.070312</td>\n",
       "      <td>11535.559570</td>\n",
       "      <td>11817.009766</td>\n",
       "      <td>11817.009766</td>\n",
       "      <td>5867750000</td>\n",
       "    </tr>\n",
       "    <tr>\n",
       "      <th>136</th>\n",
       "      <td>2022-11-14</td>\n",
       "      <td>11728.110352</td>\n",
       "      <td>11863.820312</td>\n",
       "      <td>11669.099609</td>\n",
       "      <td>11700.940430</td>\n",
       "      <td>11700.940430</td>\n",
       "      <td>5004060000</td>\n",
       "    </tr>\n",
       "  </tbody>\n",
       "</table>\n",
       "<p>137 rows × 7 columns</p>\n",
       "</div>"
      ],
      "text/plain": [
       "          Date          Open          High           Low         Close  \\\n",
       "0   2022-05-02  12864.830078  13083.570312  12716.629883  13075.849609   \n",
       "1   2022-05-03  13045.349609  13178.740234  12982.700195  13089.900391   \n",
       "2   2022-05-04  13110.299805  13556.669922  12887.530273  13535.709961   \n",
       "3   2022-05-05  13344.790039  13344.790039  12710.589844  12850.549805   \n",
       "4   2022-05-06  12776.860352  12926.580078  12522.769531  12693.530273   \n",
       "..         ...           ...           ...           ...           ...   \n",
       "132 2022-11-08  11039.580078  11191.900391  10897.530273  11059.500000   \n",
       "133 2022-11-09  10971.429688  11012.660156  10790.349609  10797.549805   \n",
       "134 2022-11-10  11350.419922  11612.200195  11235.740234  11605.959961   \n",
       "135 2022-11-11  11604.360352  11840.070312  11535.559570  11817.009766   \n",
       "136 2022-11-14  11728.110352  11863.820312  11669.099609  11700.940430   \n",
       "\n",
       "        Adj Close      Volume  \n",
       "0    13075.849609  4918240000  \n",
       "1    13089.900391  4547280000  \n",
       "2    13535.709961  5498050000  \n",
       "3    12850.549805  5308920000  \n",
       "4    12693.530273  5324480000  \n",
       "..            ...         ...  \n",
       "132  11059.500000  5134500000  \n",
       "133  10797.549805  4977460000  \n",
       "134  11605.959961  6433000000  \n",
       "135  11817.009766  5867750000  \n",
       "136  11700.940430  5004060000  \n",
       "\n",
       "[137 rows x 7 columns]"
      ]
     },
     "execution_count": 13,
     "metadata": {},
     "output_type": "execute_result"
    }
   ],
   "source": [
    "pd.read_sql(\"NDX\",engine)"
   ]
  },
  {
   "cell_type": "code",
   "execution_count": 23,
   "id": "1d27e81b",
   "metadata": {},
   "outputs": [],
   "source": [
    "def sql_importer(symbol,start = \"2022-05-01\"):\n",
    "    try:\n",
    "        max_date = pd.read_sql(f\"SELECT MAX(Date) FROM {symbol}\",engine).values[0][0]\n",
    "        print(max_date)\n",
    "        new_data = yf.download(symbol, start = pd.to_datetime(max_date))\n",
    "        new_rows = data[new_data.index > max_date]\n",
    "        new_rows.to_sql(symbol, engine, if_exists = \"append\")\n",
    "        print(str(len(new_rows)) + \"new rows imported to DB\")\n",
    "    except:\n",
    "        new_data = yf.download(symbol, start = start)\n",
    "        new_data.to_sql(symbol, engine)\n",
    "        print(f\"New table created for {symbol} with {str(len(new_data))}  rows\")"
   ]
  },
  {
   "cell_type": "code",
   "execution_count": 24,
   "id": "6d62bc0f",
   "metadata": {},
   "outputs": [
    {
     "name": "stdout",
     "output_type": "stream",
     "text": [
      "[*********************100%***********************]  1 of 1 completed\n",
      "New table created for AAPL with 138  rows\n"
     ]
    }
   ],
   "source": [
    "sql_importer(\"AAPL\")"
   ]
  },
  {
   "cell_type": "code",
   "execution_count": 25,
   "id": "304628b1",
   "metadata": {},
   "outputs": [],
   "source": [
    "stocks = [\"DJI\",\"IBM\",\"TSLA\",\"MSFT\",\"AMZN\"]"
   ]
  },
  {
   "cell_type": "code",
   "execution_count": 27,
   "id": "4a147539",
   "metadata": {},
   "outputs": [
    {
     "name": "stdout",
     "output_type": "stream",
     "text": [
      "[*********************100%***********************]  1 of 1 completed\n",
      "\n",
      "1 Failed download:\n",
      "- DJI: No data found for this date range, symbol may be delisted\n",
      "New table created for DJI with 0  rows\n",
      "[*********************100%***********************]  1 of 1 completed\n",
      "New table created for IBM with 138  rows\n",
      "[*********************100%***********************]  1 of 1 completed\n",
      "New table created for TSLA with 138  rows\n",
      "[*********************100%***********************]  1 of 1 completed\n",
      "New table created for MSFT with 138  rows\n",
      "[*********************100%***********************]  1 of 1 completed\n",
      "New table created for AMZN with 137  rows\n"
     ]
    }
   ],
   "source": [
    "for stock in stocks:\n",
    "    sql_importer(stock)"
   ]
  },
  {
   "cell_type": "code",
   "execution_count": null,
   "id": "e4663445",
   "metadata": {},
   "outputs": [],
   "source": []
  }
 ],
 "metadata": {
  "kernelspec": {
   "display_name": "Python 3 (ipykernel)",
   "language": "python",
   "name": "python3"
  },
  "language_info": {
   "codemirror_mode": {
    "name": "ipython",
    "version": 3
   },
   "file_extension": ".py",
   "mimetype": "text/x-python",
   "name": "python",
   "nbconvert_exporter": "python",
   "pygments_lexer": "ipython3",
   "version": "3.9.12"
  }
 },
 "nbformat": 4,
 "nbformat_minor": 5
}
